{
 "cells": [
  {
   "cell_type": "markdown",
   "id": "5434a940",
   "metadata": {},
   "source": [
    "# 📈 IoT Agriculture 2024 Dataset Analysis\n",
    "\n",
    "Let's do some data analysis on the **IoT Agriculture 2024** dataset.  \n",
    "I pulled this data from Kaggle:\n",
    "\n",
    "🔗 [View Dataset on Kaggle](https://www.kaggle.com/datasets/wisam1985/iot-agriculture-2024/data)\n",
    "\n",
    "---\n",
    "\n",
    "## 📚 About the Dataset\n",
    "\n",
    "**Data Source and Authors:**  \n",
    "This dataset originates from a master's thesis research project by **Mohammed Ismail Lifta (2023–2024)** at the Department of Computer Science, College of Computer Science and Mathematics, Tikrit University, Iraq. The research was supervised by **Assistant Professor Wissam Dawood Abdullah**, Director of the Cisco Networking Academy at Tikrit University.\n",
    "\n",
    "A smart greenhouse was constructed using IoT sensors and actuators to monitor and control environmental conditions. Data was collected and linked to Google Sheets for real-time tracking.\n",
    "\n",
    "> 💡 **Rows:** 37,923  **Columns:** 13\n",
    "\n",
    "---\n",
    "\n",
    "## 🧾 Columns and Data Types\n",
    "\n",
    "| Column                          | Type       | Description |\n",
    "|---------------------------------|------------|-------------|\n",
    "| `date`                          | datetime64 | Timestamp of the measurement |\n",
    "| `temperature`                   | int64      | Temperature (°C) |\n",
    "| `humidity`                      | int64      | Humidity (%) |\n",
    "| `water_level`                   | int64      | Water level (%) |\n",
    "| `N`, `P`, `K`                   | int64      | Soil nutrients (Nitrogen, Phosphorus, Potassium), scaled 0–255 |\n",
    "| `Fan_actuator_OFF/ON`          | float64    | Fan actuator status (0 or 1) |\n",
    "| `Watering_plant_pump_OFF/ON`   | float64    | Plant watering pump status |\n",
    "| `Water_pump_actuator_OFF/ON`   | float64    | Water pump actuator status |\n",
    "\n",
    "---\n",
    "\n",
    "## 🧹 Additional Details\n",
    "\n",
    "- Duplicate and missing rows were removed.\n",
    "- Categorical columns were encoded using **One-Hot Encoding**.\n",
    "- The dataset is cleaned and ready for **machine learning** analysis.\n",
    "\n",
    "---\n",
    "\n",
    "## 📄 License\n",
    "\n",
    "This dataset is licensed under **Creative Commons BY-ND (Attribution-NoDerivs)**.  \n",
    "You may use the data for environmental research, but **no modifications are allowed**, and **proper attribution is required**.\n",
    "\n",
    "---\n",
    "\n",
    "## 📬 Contact\n",
    "\n",
    "For more information:  \n",
    "**Assistant Professor Wissam Dawood Abdullah**  \n",
    "📧 [wisamdawood@tu.edu.iq](mailto:wisamdawood@tu.edu.iq)"
   ]
  },
  {
   "cell_type": "markdown",
   "id": "9a564548",
   "metadata": {},
   "source": [
    "---\n",
    "## Let's analyze the data! 🚜🌱\n",
    "---"
   ]
  },
  {
   "cell_type": "markdown",
   "id": "4c9f040e",
   "metadata": {},
   "source": [
    "### Step 1: Import necessary libraries"
   ]
  },
  {
   "cell_type": "code",
   "execution_count": null,
   "id": "15aa36b4",
   "metadata": {},
   "outputs": [],
   "source": []
  },
  {
   "cell_type": "markdown",
   "id": "e2b887c4",
   "metadata": {},
   "source": [
    "### Step 2: read in and review the dataset, clean data? "
   ]
  },
  {
   "cell_type": "code",
   "execution_count": null,
   "id": "96bdc61d",
   "metadata": {},
   "outputs": [],
   "source": []
  },
  {
   "cell_type": "markdown",
   "id": "163314a2",
   "metadata": {},
   "source": [
    "### Step 3: Initial data exploration and cleaning\n"
   ]
  },
  {
   "cell_type": "code",
   "execution_count": null,
   "id": "8ad2065b",
   "metadata": {},
   "outputs": [],
   "source": []
  },
  {
   "cell_type": "markdown",
   "id": "cfaf013c",
   "metadata": {},
   "source": [
    "---\n",
    "### &nbsp;&nbsp;&nbsp;&nbsp; Step 3a: Temperature analysis\n"
   ]
  },
  {
   "cell_type": "code",
   "execution_count": 1,
   "id": "6b308f4a",
   "metadata": {},
   "outputs": [],
   "source": [
    "# Temperature over time\n"
   ]
  },
  {
   "cell_type": "code",
   "execution_count": 13,
   "id": "6e73c35a",
   "metadata": {},
   "outputs": [],
   "source": [
    "# Average temperature over time\n",
    "\n"
   ]
  },
  {
   "cell_type": "code",
   "execution_count": 2,
   "id": "194bc90a",
   "metadata": {},
   "outputs": [],
   "source": [
    "# Temperature Distribution\n"
   ]
  },
  {
   "cell_type": "markdown",
   "id": "c0fd8722",
   "metadata": {},
   "source": [
    "---\n",
    "### &nbsp;&nbsp;&nbsp;&nbsp; Step 3b: Humidity analysis"
   ]
  },
  {
   "cell_type": "code",
   "execution_count": 3,
   "id": "410cf853",
   "metadata": {},
   "outputs": [],
   "source": [
    "# Humidity over time\n"
   ]
  },
  {
   "cell_type": "code",
   "execution_count": 12,
   "id": "48890900",
   "metadata": {},
   "outputs": [],
   "source": [
    "# Average Humidity over time\n",
    "\n"
   ]
  },
  {
   "cell_type": "code",
   "execution_count": 4,
   "id": "82aa0109",
   "metadata": {},
   "outputs": [],
   "source": [
    "# Humidity Distribution\n"
   ]
  },
  {
   "cell_type": "markdown",
   "id": "eaae56a5",
   "metadata": {},
   "source": [
    "---\n",
    "### &nbsp;&nbsp;&nbsp;&nbsp; Step 3c: Water Level analysis"
   ]
  },
  {
   "cell_type": "code",
   "execution_count": 5,
   "id": "ffd0e872",
   "metadata": {},
   "outputs": [],
   "source": [
    "# Water Level over time\n",
    "\n"
   ]
  },
  {
   "cell_type": "code",
   "execution_count": 6,
   "id": "5ca7c29b",
   "metadata": {},
   "outputs": [],
   "source": [
    "# Average Water Level over time\n",
    "\n"
   ]
  },
  {
   "cell_type": "code",
   "execution_count": 11,
   "id": "df5b2d78",
   "metadata": {},
   "outputs": [],
   "source": [
    "# Water Level Distribution\n",
    "\n"
   ]
  },
  {
   "cell_type": "markdown",
   "id": "9ffc9e58",
   "metadata": {},
   "source": [
    "---\n",
    "### &nbsp;&nbsp;&nbsp;&nbsp; All together now! Average Temp, humidity, and water level over time"
   ]
  },
  {
   "cell_type": "code",
   "execution_count": null,
   "id": "2765e60b",
   "metadata": {},
   "outputs": [],
   "source": []
  },
  {
   "cell_type": "markdown",
   "id": "4240d4e4",
   "metadata": {},
   "source": [
    "---\n",
    "### &nbsp;&nbsp;&nbsp;&nbsp; Relationship between Temp & Humidity"
   ]
  },
  {
   "cell_type": "code",
   "execution_count": null,
   "id": "d837c78d",
   "metadata": {},
   "outputs": [],
   "source": [
    "# average temperature and humidity\n",
    "\n"
   ]
  },
  {
   "cell_type": "code",
   "execution_count": 9,
   "id": "7e60bbc3",
   "metadata": {},
   "outputs": [],
   "source": [
    "# Humidity vs Temperature scatter plot\n"
   ]
  },
  {
   "cell_type": "code",
   "execution_count": 10,
   "id": "f270715c",
   "metadata": {},
   "outputs": [],
   "source": [
    "# Humidity vs Temperature colored by additional variable \n"
   ]
  },
  {
   "cell_type": "markdown",
   "id": "294984f4",
   "metadata": {},
   "source": [
    "---\n",
    "### &nbsp;&nbsp;&nbsp;&nbsp; Relationship between x and y. You choose!"
   ]
  },
  {
   "cell_type": "code",
   "execution_count": null,
   "id": "e0b867a5",
   "metadata": {},
   "outputs": [],
   "source": []
  },
  {
   "cell_type": "markdown",
   "id": "cd5d9339",
   "metadata": {},
   "source": [
    "---\n",
    "### &nbsp;&nbsp;&nbsp;&nbsp; What about Nitrogen, Phosphorus, and Potassium?"
   ]
  },
  {
   "cell_type": "code",
   "execution_count": null,
   "id": "82b0e9c6",
   "metadata": {},
   "outputs": [],
   "source": []
  },
  {
   "cell_type": "markdown",
   "id": "59c2d6b7",
   "metadata": {},
   "source": [
    "---"
   ]
  }
 ],
 "metadata": {
  "kernelspec": {
   "display_name": "lena",
   "language": "python",
   "name": "python3"
  },
  "language_info": {
   "codemirror_mode": {
    "name": "ipython",
    "version": 3
   },
   "file_extension": ".py",
   "mimetype": "text/x-python",
   "name": "python",
   "nbconvert_exporter": "python",
   "pygments_lexer": "ipython3",
   "version": "3.8.20"
  }
 },
 "nbformat": 4,
 "nbformat_minor": 5
}
